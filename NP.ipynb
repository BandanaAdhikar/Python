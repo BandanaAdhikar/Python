{
 "cells": [
  {
   "cell_type": "markdown",
   "id": "21365d31-7214-4c62-a724-5f902b640ca0",
   "metadata": {},
   "source": [
    "## **Numpy Pandas Assignment**"
   ]
  },
  {
   "cell_type": "code",
   "execution_count": 35,
   "id": "87493b5e-bcf7-4c28-92ae-a4d126e78802",
   "metadata": {},
   "outputs": [],
   "source": [
    "import numpy as np"
   ]
  },
  {
   "cell_type": "code",
   "execution_count": 36,
   "id": "5ac32dda-74a5-4332-a309-e1b8876516bc",
   "metadata": {},
   "outputs": [],
   "source": [
    "import pandas as pd"
   ]
  },
  {
   "cell_type": "markdown",
   "id": "97f985b6-cc48-44d4-a8b7-e1b705ab3218",
   "metadata": {},
   "source": [
    "# *Task1: Numpy Basics*"
   ]
  },
  {
   "cell_type": "markdown",
   "id": "58daae14-1774-4f89-8047-0d041329e6a3",
   "metadata": {},
   "source": [
    "#  Array Creation"
   ]
  },
  {
   "cell_type": "code",
   "execution_count": 37,
   "id": "110e71d4-e455-4b49-a4f9-4bdd3caf5b37",
   "metadata": {},
   "outputs": [],
   "source": [
    "##1D and 2D numpy array"
   ]
  },
  {
   "cell_type": "code",
   "execution_count": 38,
   "id": "f8911ce4-fc21-462a-8267-fdadf56156b5",
   "metadata": {},
   "outputs": [],
   "source": [
    "arr_1D = np.array([1,2,3,4]) #cant use numeric value at 1st of any variabel"
   ]
  },
  {
   "cell_type": "code",
   "execution_count": 39,
   "id": "6f2c4788-8c32-4f77-88bc-11d664ca0ea1",
   "metadata": {},
   "outputs": [
    {
     "name": "stdout",
     "output_type": "stream",
     "text": [
      "1D_array [1 2 3 4]\n"
     ]
    }
   ],
   "source": [
    "print (\"1D_array\", arr_1D)"
   ]
  },
  {
   "cell_type": "code",
   "execution_count": 40,
   "id": "1a523604-4b83-436a-b5eb-7dd7d614eac4",
   "metadata": {},
   "outputs": [],
   "source": [
    "arr_2D = np.array([[1,2,3],[4,5,6]])"
   ]
  },
  {
   "cell_type": "code",
   "execution_count": 41,
   "id": "e67a2d76-538f-4936-af7a-623e8b93101f",
   "metadata": {},
   "outputs": [
    {
     "name": "stdout",
     "output_type": "stream",
     "text": [
      "2D_array [[1 2 3]\n",
      " [4 5 6]]\n"
     ]
    }
   ],
   "source": [
    "print (\"2D_array\",arr_2D)"
   ]
  },
  {
   "cell_type": "code",
   "execution_count": 42,
   "id": "6901603a-f497-4652-baa4-bbd3d4967a73",
   "metadata": {},
   "outputs": [
    {
     "name": "stdout",
     "output_type": "stream",
     "text": [
      "2D_array:\n",
      " [[1 2 3]\n",
      " [4 5 6]]\n"
     ]
    }
   ],
   "source": [
    "print (\"2D_array:\\n\",arr_2D) #n is used to start a new line"
   ]
  },
  {
   "cell_type": "markdown",
   "id": "dfaad43a-f0bf-4df5-89f3-90bbceb1e3c2",
   "metadata": {},
   "source": [
    "# Array Operation"
   ]
  },
  {
   "cell_type": "code",
   "execution_count": 43,
   "id": "9bbc308e-c0a4-4da3-9a4e-26d803459c02",
   "metadata": {},
   "outputs": [],
   "source": [
    "##Performing basic arithmatic operations in array"
   ]
  },
  {
   "cell_type": "code",
   "execution_count": 44,
   "id": "2315441e-6e36-4aa5-bb7b-7c32e6dd0134",
   "metadata": {},
   "outputs": [],
   "source": [
    "arr_add = arr_1D + 10 #adding above 1D array by 10 that will add 10 to every elements inside array"
   ]
  },
  {
   "cell_type": "code",
   "execution_count": 45,
   "id": "eee781a0-925c-499d-bee5-caa683c761db",
   "metadata": {},
   "outputs": [
    {
     "name": "stdout",
     "output_type": "stream",
     "text": [
      "Sum [11 12 13 14]\n"
     ]
    }
   ],
   "source": [
    "print(\"Sum\",arr_add)"
   ]
  },
  {
   "cell_type": "code",
   "execution_count": 46,
   "id": "5d361c47-0aa9-405f-ad9c-2f09fb16ac07",
   "metadata": {},
   "outputs": [],
   "source": [
    "arr_mul = arr_2D *2 #multipying above 2D array by 2"
   ]
  },
  {
   "cell_type": "code",
   "execution_count": 47,
   "id": "caad6bea-1037-4604-9f06-78819da16b85",
   "metadata": {},
   "outputs": [
    {
     "name": "stdout",
     "output_type": "stream",
     "text": [
      "Mul\n",
      " [[ 2  4  6]\n",
      " [ 8 10 12]]\n"
     ]
    }
   ],
   "source": [
    "print(\"Mul\\n\",arr_mul)"
   ]
  },
  {
   "cell_type": "markdown",
   "id": "e09ae117-d706-490a-8e98-801ec43032e8",
   "metadata": {},
   "source": [
    "# Indexing And Slicing"
   ]
  },
  {
   "cell_type": "code",
   "execution_count": 48,
   "id": "cfe0aa9a-cb7d-405c-b8c1-1e81599dfae6",
   "metadata": {},
   "outputs": [],
   "source": [
    "##Demonstrating Indeximg and Slicing in Array"
   ]
  },
  {
   "cell_type": "code",
   "execution_count": 49,
   "id": "6afd01fa-64b5-423e-87fc-0ac61190b2cf",
   "metadata": {},
   "outputs": [
    {
     "name": "stdout",
     "output_type": "stream",
     "text": [
      "First element of 1Darray : 2\n"
     ]
    }
   ],
   "source": [
    "print(\"First element of 1Darray :\",arr_1D[1]) ## [1] gives the value in index 1"
   ]
  },
  {
   "cell_type": "code",
   "execution_count": 50,
   "id": "42490a9c-e1cd-4faa-bf80-9e0039e1a1b3",
   "metadata": {},
   "outputs": [
    {
     "name": "stdout",
     "output_type": "stream",
     "text": [
      "First row of 2Darray:\n",
      " [1 2 3]\n"
     ]
    }
   ],
   "source": [
    "print (\"First row of 2Darray:\\n\",arr_2D[0,:])"
   ]
  },
  {
   "cell_type": "markdown",
   "id": "a1bdee98-4143-4dd8-b087-bc6e6464a08a",
   "metadata": {},
   "source": [
    "# Shaping and Reshaping Array"
   ]
  },
  {
   "cell_type": "code",
   "execution_count": 51,
   "id": "f94c86c5-584c-4626-ab08-22aab45fbe85",
   "metadata": {},
   "outputs": [],
   "source": [
    "##checking shape and reshaping array"
   ]
  },
  {
   "cell_type": "code",
   "execution_count": 52,
   "id": "4247e718-1041-44b4-a2f3-7a53cea05564",
   "metadata": {},
   "outputs": [
    {
     "name": "stdout",
     "output_type": "stream",
     "text": [
      "shape of 2Darray: (2, 3)\n"
     ]
    }
   ],
   "source": [
    "print (\"shape of 2Darray:\",arr_2D.shape)"
   ]
  },
  {
   "cell_type": "code",
   "execution_count": 53,
   "id": "a8407447-07cc-4658-9e96-444069e62f76",
   "metadata": {},
   "outputs": [],
   "source": [
    "reshape_2Darr = arr_2D.reshape((3,2))"
   ]
  },
  {
   "cell_type": "code",
   "execution_count": 54,
   "id": "1372eacd-d0eb-42fc-ab24-7dbb8f554b15",
   "metadata": {},
   "outputs": [
    {
     "name": "stdout",
     "output_type": "stream",
     "text": [
      "Reshaped array:\n",
      " [[1 2]\n",
      " [3 4]\n",
      " [5 6]]\n"
     ]
    }
   ],
   "source": [
    "print(\"Reshaped array:\\n\",reshape_2Darr)"
   ]
  },
  {
   "cell_type": "markdown",
   "id": "3ec6f049-4d3b-4304-a1ed-b25d10c47e29",
   "metadata": {},
   "source": [
    "# *Task 2:Pandas Basics*"
   ]
  },
  {
   "cell_type": "markdown",
   "id": "509b989d-ecec-4835-a3a9-932455647ea7",
   "metadata": {},
   "source": [
    "# Series and Dataframe Creation"
   ]
  },
  {
   "cell_type": "code",
   "execution_count": 55,
   "id": "1ad854a4-a2d5-4b1e-855a-10130f970602",
   "metadata": {},
   "outputs": [],
   "source": [
    "s=pd.Series([1,2,3,4,5])"
   ]
  },
  {
   "cell_type": "code",
   "execution_count": 56,
   "id": "a19e1880-a2f6-46c3-baa4-71d027063fd8",
   "metadata": {},
   "outputs": [
    {
     "name": "stdout",
     "output_type": "stream",
     "text": [
      "Pandas Series:\n",
      " 0    1\n",
      "1    2\n",
      "2    3\n",
      "3    4\n",
      "4    5\n",
      "dtype: int64\n"
     ]
    }
   ],
   "source": [
    "print(\"Pandas Series:\\n\",s)"
   ]
  },
  {
   "cell_type": "code",
   "execution_count": 57,
   "id": "3e9026ee-e551-4435-8a5f-a6b487592eff",
   "metadata": {},
   "outputs": [],
   "source": [
    "##Dataframe"
   ]
  },
  {
   "cell_type": "code",
   "execution_count": 58,
   "id": "bd21861d-71d8-4161-99d2-cf5436c1456d",
   "metadata": {},
   "outputs": [],
   "source": [
    "df = pd.DataFrame({'A':[1,2,3,4],\n",
    "                 'B':[5,6,7,8],\n",
    "                  'c':[1,5,3,4]})"
   ]
  },
  {
   "cell_type": "code",
   "execution_count": 59,
   "id": "d07b7b14-bffd-48c6-90f0-8f78a4771690",
   "metadata": {},
   "outputs": [
    {
     "name": "stdout",
     "output_type": "stream",
     "text": [
      "DataFrame:\n",
      "    A  B  c\n",
      "0  1  5  1\n",
      "1  2  6  5\n",
      "2  3  7  3\n",
      "3  4  8  4\n"
     ]
    }
   ],
   "source": [
    "print(\"DataFrame:\\n\",df)"
   ]
  },
  {
   "cell_type": "markdown",
   "id": "7fd7334d-de3a-44e3-875b-679d9d8af271",
   "metadata": {},
   "source": [
    "# Reading Data"
   ]
  },
  {
   "cell_type": "code",
   "execution_count": 60,
   "id": "5743f90d-44f9-4fd8-a85d-262a43fbe2f0",
   "metadata": {},
   "outputs": [],
   "source": [
    "#Reading data from a csv file"
   ]
  },
  {
   "cell_type": "code",
   "execution_count": 61,
   "id": "149706c4-ba6b-4dcc-89f3-0c555a2b61b8",
   "metadata": {},
   "outputs": [],
   "source": [
    "df_read = pd.read_csv('/Users/bandanaadhikari/Desktop/classassignment/Sample_Data.csv')"
   ]
  },
  {
   "cell_type": "code",
   "execution_count": 62,
   "id": "46b32960-5127-4cb6-9d2d-b423b9310ed5",
   "metadata": {},
   "outputs": [
    {
     "data": {
      "text/html": [
       "<div>\n",
       "<style scoped>\n",
       "    .dataframe tbody tr th:only-of-type {\n",
       "        vertical-align: middle;\n",
       "    }\n",
       "\n",
       "    .dataframe tbody tr th {\n",
       "        vertical-align: top;\n",
       "    }\n",
       "\n",
       "    .dataframe thead th {\n",
       "        text-align: right;\n",
       "    }\n",
       "</style>\n",
       "<table border=\"1\" class=\"dataframe\">\n",
       "  <thead>\n",
       "    <tr style=\"text-align: right;\">\n",
       "      <th></th>\n",
       "      <th>A</th>\n",
       "      <th>B</th>\n",
       "      <th>C</th>\n",
       "    </tr>\n",
       "  </thead>\n",
       "  <tbody>\n",
       "    <tr>\n",
       "      <th>0</th>\n",
       "      <td>1</td>\n",
       "      <td>4</td>\n",
       "      <td>7</td>\n",
       "    </tr>\n",
       "    <tr>\n",
       "      <th>1</th>\n",
       "      <td>2</td>\n",
       "      <td>5</td>\n",
       "      <td>8</td>\n",
       "    </tr>\n",
       "    <tr>\n",
       "      <th>2</th>\n",
       "      <td>3</td>\n",
       "      <td>6</td>\n",
       "      <td>9</td>\n",
       "    </tr>\n",
       "  </tbody>\n",
       "</table>\n",
       "</div>"
      ],
      "text/plain": [
       "   A  B  C\n",
       "0  1  4  7\n",
       "1  2  5  8\n",
       "2  3  6  9"
      ]
     },
     "execution_count": 62,
     "metadata": {},
     "output_type": "execute_result"
    }
   ],
   "source": [
    "df_read.head()"
   ]
  },
  {
   "cell_type": "markdown",
   "id": "116fb059-a501-44f4-832d-5be448e774f8",
   "metadata": {},
   "source": [
    "# Data Inspection"
   ]
  },
  {
   "cell_type": "code",
   "execution_count": null,
   "id": "6255bac8-78f5-4354-ade7-bb08c961f877",
   "metadata": {},
   "outputs": [],
   "source": [
    "#performing basic data inspection method"
   ]
  },
  {
   "cell_type": "code",
   "execution_count": 63,
   "id": "20d7d882-aa27-4ed6-84c0-1f43ad037a4f",
   "metadata": {},
   "outputs": [
    {
     "name": "stdout",
     "output_type": "stream",
     "text": [
      "head of dataframe:\n",
      "    A  B  c\n",
      "0  1  5  1\n",
      "1  2  6  5\n",
      "2  3  7  3\n",
      "3  4  8  4\n"
     ]
    }
   ],
   "source": [
    "print (\"head of DataFrame:\\n\",df.head())"
   ]
  },
  {
   "cell_type": "code",
   "execution_count": 64,
   "id": "cc968add-8ebc-4455-9292-41354e628b22",
   "metadata": {},
   "outputs": [
    {
     "name": "stdout",
     "output_type": "stream",
     "text": [
      "<class 'pandas.core.frame.DataFrame'>\n",
      "RangeIndex: 4 entries, 0 to 3\n",
      "Data columns (total 3 columns):\n",
      " #   Column  Non-Null Count  Dtype\n",
      "---  ------  --------------  -----\n",
      " 0   A       4 non-null      int64\n",
      " 1   B       4 non-null      int64\n",
      " 2   c       4 non-null      int64\n",
      "dtypes: int64(3)\n",
      "memory usage: 228.0 bytes\n",
      "info of DataFrame:\n",
      " None\n"
     ]
    }
   ],
   "source": [
    "print (\"info of DataFrame:\\n\",df.info())"
   ]
  },
  {
   "cell_type": "code",
   "execution_count": 66,
   "id": "5a6e9fb6-ec41-41bf-8d92-94a8c1170787",
   "metadata": {},
   "outputs": [
    {
     "name": "stdout",
     "output_type": "stream",
     "text": [
      "description of DataFrame:\n",
      "               A         B         c\n",
      "count  4.000000  4.000000  4.000000\n",
      "mean   2.500000  6.500000  3.250000\n",
      "std    1.290994  1.290994  1.707825\n",
      "min    1.000000  5.000000  1.000000\n",
      "25%    1.750000  5.750000  2.500000\n",
      "50%    2.500000  6.500000  3.500000\n",
      "75%    3.250000  7.250000  4.250000\n",
      "max    4.000000  8.000000  5.000000\n"
     ]
    }
   ],
   "source": [
    "print (\"description of DataFrame:\\n\",df.describe())"
   ]
  },
  {
   "cell_type": "markdown",
   "id": "3ff05f10-bd61-4243-aee5-a7ea35d23c57",
   "metadata": {},
   "source": [
    "# Data Manipulation "
   ]
  },
  {
   "cell_type": "code",
   "execution_count": 67,
   "id": "a64d2f4b-c651-4428-bbf1-90aa156e49ea",
   "metadata": {},
   "outputs": [],
   "source": [
    "#selection of data"
   ]
  },
  {
   "cell_type": "code",
   "execution_count": 69,
   "id": "470d9208-fc0f-450e-ae60-a3bbaa46b3b2",
   "metadata": {},
   "outputs": [
    {
     "name": "stdout",
     "output_type": "stream",
     "text": [
      "Column A:\n",
      "    A\n",
      "0  1\n",
      "1  2\n",
      "2  3\n",
      "3  4\n"
     ]
    }
   ],
   "source": [
    "print (\"Column A:\\n\",df[['A']])"
   ]
  },
  {
   "cell_type": "code",
   "execution_count": 73,
   "id": "047225f0-f608-4a11-b339-f9307a71f49a",
   "metadata": {},
   "outputs": [
    {
     "name": "stdout",
     "output_type": "stream",
     "text": [
      "column A and B:\n",
      "    A  B\n",
      "0  1  5\n",
      "1  2  6\n",
      "2  3  7\n",
      "3  4  8\n"
     ]
    }
   ],
   "source": [
    "print(\"column A and B:\\n\",df[['A','B']])"
   ]
  },
  {
   "cell_type": "markdown",
   "id": "699ae570-157d-4b8c-b4c4-aa567a847b05",
   "metadata": {},
   "source": [
    "#Filtering Data\n"
   ]
  },
  {
   "cell_type": "code",
   "execution_count": 74,
   "id": "4c343cd9-b0bd-43d4-beaa-2f371a62985d",
   "metadata": {},
   "outputs": [],
   "source": [
    "filtered_df = df[df['A']>1]"
   ]
  },
  {
   "cell_type": "code",
   "execution_count": 75,
   "id": "ad91e00e-5a0a-421a-8cb3-57cfee01b5b9",
   "metadata": {},
   "outputs": [
    {
     "data": {
      "text/html": [
       "<div>\n",
       "<style scoped>\n",
       "    .dataframe tbody tr th:only-of-type {\n",
       "        vertical-align: middle;\n",
       "    }\n",
       "\n",
       "    .dataframe tbody tr th {\n",
       "        vertical-align: top;\n",
       "    }\n",
       "\n",
       "    .dataframe thead th {\n",
       "        text-align: right;\n",
       "    }\n",
       "</style>\n",
       "<table border=\"1\" class=\"dataframe\">\n",
       "  <thead>\n",
       "    <tr style=\"text-align: right;\">\n",
       "      <th></th>\n",
       "      <th>A</th>\n",
       "      <th>B</th>\n",
       "      <th>c</th>\n",
       "    </tr>\n",
       "  </thead>\n",
       "  <tbody>\n",
       "    <tr>\n",
       "      <th>1</th>\n",
       "      <td>2</td>\n",
       "      <td>6</td>\n",
       "      <td>5</td>\n",
       "    </tr>\n",
       "    <tr>\n",
       "      <th>2</th>\n",
       "      <td>3</td>\n",
       "      <td>7</td>\n",
       "      <td>3</td>\n",
       "    </tr>\n",
       "    <tr>\n",
       "      <th>3</th>\n",
       "      <td>4</td>\n",
       "      <td>8</td>\n",
       "      <td>4</td>\n",
       "    </tr>\n",
       "  </tbody>\n",
       "</table>\n",
       "</div>"
      ],
      "text/plain": [
       "   A  B  c\n",
       "1  2  6  5\n",
       "2  3  7  3\n",
       "3  4  8  4"
      ]
     },
     "execution_count": 75,
     "metadata": {},
     "output_type": "execute_result"
    }
   ],
   "source": [
    "filtered_df"
   ]
  },
  {
   "cell_type": "code",
   "execution_count": 76,
   "id": "8970dd2a-480e-490b-a4ff-54c9a255825a",
   "metadata": {},
   "outputs": [],
   "source": [
    "# Adding/Removing Columns\n"
   ]
  },
  {
   "cell_type": "code",
   "execution_count": 100,
   "id": "b7cb1c55-7cd2-478f-989d-670c3f1a86c6",
   "metadata": {},
   "outputs": [],
   "source": [
    "df['D']=df['A']+df['B']"
   ]
  },
  {
   "cell_type": "code",
   "execution_count": 101,
   "id": "a8725bfa-6671-4a6c-a0e3-0b81fd192bdb",
   "metadata": {},
   "outputs": [
    {
     "data": {
      "text/plain": [
       "0     6\n",
       "1     8\n",
       "2    10\n",
       "3    12\n",
       "Name: D, dtype: int64"
      ]
     },
     "execution_count": 101,
     "metadata": {},
     "output_type": "execute_result"
    }
   ],
   "source": [
    "df['D']"
   ]
  },
  {
   "cell_type": "code",
   "execution_count": 102,
   "id": "9f2abbca-8430-48be-a1d7-48a96349d4be",
   "metadata": {},
   "outputs": [],
   "source": [
    "df.drop('D', axis=1, inplace =True) #DataFrame after dropping column D"
   ]
  },
  {
   "cell_type": "code",
   "execution_count": 94,
   "id": "24624eb2-4244-4257-8d22-997f6bc32cf5",
   "metadata": {},
   "outputs": [
    {
     "data": {
      "text/html": [
       "<div>\n",
       "<style scoped>\n",
       "    .dataframe tbody tr th:only-of-type {\n",
       "        vertical-align: middle;\n",
       "    }\n",
       "\n",
       "    .dataframe tbody tr th {\n",
       "        vertical-align: top;\n",
       "    }\n",
       "\n",
       "    .dataframe thead th {\n",
       "        text-align: right;\n",
       "    }\n",
       "</style>\n",
       "<table border=\"1\" class=\"dataframe\">\n",
       "  <thead>\n",
       "    <tr style=\"text-align: right;\">\n",
       "      <th></th>\n",
       "      <th>A</th>\n",
       "      <th>B</th>\n",
       "      <th>c</th>\n",
       "      <th>D</th>\n",
       "    </tr>\n",
       "  </thead>\n",
       "  <tbody>\n",
       "    <tr>\n",
       "      <th>0</th>\n",
       "      <td>1</td>\n",
       "      <td>5</td>\n",
       "      <td>1</td>\n",
       "      <td>6</td>\n",
       "    </tr>\n",
       "    <tr>\n",
       "      <th>1</th>\n",
       "      <td>2</td>\n",
       "      <td>6</td>\n",
       "      <td>5</td>\n",
       "      <td>8</td>\n",
       "    </tr>\n",
       "    <tr>\n",
       "      <th>2</th>\n",
       "      <td>3</td>\n",
       "      <td>7</td>\n",
       "      <td>3</td>\n",
       "      <td>10</td>\n",
       "    </tr>\n",
       "    <tr>\n",
       "      <th>3</th>\n",
       "      <td>4</td>\n",
       "      <td>8</td>\n",
       "      <td>4</td>\n",
       "      <td>12</td>\n",
       "    </tr>\n",
       "  </tbody>\n",
       "</table>\n",
       "</div>"
      ],
      "text/plain": [
       "   A  B  c   D\n",
       "0  1  5  1   6\n",
       "1  2  6  5   8\n",
       "2  3  7  3  10\n",
       "3  4  8  4  12"
      ]
     },
     "execution_count": 94,
     "metadata": {},
     "output_type": "execute_result"
    }
   ],
   "source": [
    "df"
   ]
  },
  {
   "cell_type": "code",
   "execution_count": 103,
   "id": "f29fd80c-43c0-4415-b52c-de0f38b25f2e",
   "metadata": {},
   "outputs": [],
   "source": [
    "# Handling Missing Data"
   ]
  },
  {
   "cell_type": "code",
   "execution_count": 104,
   "id": "3d1aa4cb-0380-430f-9e16-7e30dda5756b",
   "metadata": {},
   "outputs": [],
   "source": [
    "df_with_nan = df.copy()"
   ]
  },
  {
   "cell_type": "code",
   "execution_count": 105,
   "id": "b0978e42-7c7f-4d1a-80d1-2425f65c68da",
   "metadata": {},
   "outputs": [],
   "source": [
    "df_with_nan.loc[1, 'B'] = np.nan"
   ]
  },
  {
   "cell_type": "code",
   "execution_count": 106,
   "id": "3d20b6ed-aa53-443b-a092-907a5dee3b2e",
   "metadata": {},
   "outputs": [
    {
     "name": "stdout",
     "output_type": "stream",
     "text": [
      "DataFrame with NaN:\n",
      "    A    B  c\n",
      "0  1  5.0  1\n",
      "1  2  NaN  5\n",
      "2  3  7.0  3\n",
      "3  4  8.0  4\n"
     ]
    }
   ],
   "source": [
    "print(\"DataFrame with NaN:\\n\", df_with_nan)"
   ]
  },
  {
   "cell_type": "code",
   "execution_count": 107,
   "id": "e797325c-8e1b-42b5-9d65-9c73a635bf48",
   "metadata": {},
   "outputs": [
    {
     "name": "stdout",
     "output_type": "stream",
     "text": [
      "DataFrame after dropping NaN:\n",
      "    A    B  c\n",
      "0  1  5.0  1\n",
      "2  3  7.0  3\n",
      "3  4  8.0  4\n"
     ]
    }
   ],
   "source": [
    "print(\"DataFrame after dropping NaN:\\n\", df_with_nan.dropna())"
   ]
  },
  {
   "cell_type": "code",
   "execution_count": 108,
   "id": "27567b1a-41c9-4a19-97e7-e9df579f7e47",
   "metadata": {},
   "outputs": [
    {
     "name": "stdout",
     "output_type": "stream",
     "text": [
      "DataFrame after filling NaN with 0:\n",
      "    A    B  c\n",
      "0  1  5.0  1\n",
      "1  2  0.0  5\n",
      "2  3  7.0  3\n",
      "3  4  8.0  4\n"
     ]
    }
   ],
   "source": [
    "print(\"DataFrame after filling NaN with 0:\\n\", df_with_nan.fillna(0))"
   ]
  },
  {
   "cell_type": "markdown",
   "id": "b4ed9e4f-27b7-406c-a5b4-47b5a83d34d6",
   "metadata": {},
   "source": [
    "# Task 3: Data Analysis with Pandas"
   ]
  },
  {
   "cell_type": "code",
   "execution_count": 109,
   "id": "07268d01-8e3c-45df-9ea7-4e0266381ff2",
   "metadata": {},
   "outputs": [],
   "source": [
    "# Aggregations"
   ]
  },
  {
   "cell_type": "code",
   "execution_count": 110,
   "id": "0b03bbe2-7e5e-43d3-8673-507b6e0427ee",
   "metadata": {},
   "outputs": [
    {
     "name": "stdout",
     "output_type": "stream",
     "text": [
      "Mean of column A: 2.5\n"
     ]
    }
   ],
   "source": [
    "print(\"Mean of column A:\", df['A'].mean())"
   ]
  },
  {
   "cell_type": "code",
   "execution_count": 111,
   "id": "2215a332-d24d-4a6f-9e97-e4457cb5bdfc",
   "metadata": {},
   "outputs": [
    {
     "name": "stdout",
     "output_type": "stream",
     "text": [
      "Sum of column A: 10\n"
     ]
    }
   ],
   "source": [
    "print(\"Sum of column A:\", df['A'].sum())"
   ]
  },
  {
   "cell_type": "code",
   "execution_count": 112,
   "id": "45164da0-b2f1-40b8-acae-54b44918f9ea",
   "metadata": {},
   "outputs": [],
   "source": [
    "# Merging and Joining"
   ]
  },
  {
   "cell_type": "code",
   "execution_count": 113,
   "id": "28fe278f-bc05-4e37-b2f7-0b8ea3cb39f6",
   "metadata": {},
   "outputs": [],
   "source": [
    "df1 = pd.DataFrame({'key': ['A', 'B', 'C'], 'value': [1, 2, 3]})"
   ]
  },
  {
   "cell_type": "code",
   "execution_count": 114,
   "id": "41a6f0b2-bdeb-4864-a126-3e1a15dc7f50",
   "metadata": {},
   "outputs": [],
   "source": [
    "df2 = pd.DataFrame({'key': ['A', 'B', 'D'], 'value': [4, 5, 6]})"
   ]
  },
  {
   "cell_type": "code",
   "execution_count": 115,
   "id": "10b5b9f4-6ea7-4ced-8e71-ebe025a7e4a6",
   "metadata": {},
   "outputs": [],
   "source": [
    "merged_df = pd.merge(df1, df2, on='key', how='inner')"
   ]
  },
  {
   "cell_type": "code",
   "execution_count": 129,
   "id": "64b39071-17f2-4f42-bbfb-9379929fe870",
   "metadata": {},
   "outputs": [
    {
     "name": "stdout",
     "output_type": "stream",
     "text": [
      "Merged DataFrame:\n",
      "   key  value_x  value_y\n",
      "0   A        1        4\n",
      "1   B        2        5\n"
     ]
    }
   ],
   "source": [
    "print(\"Merged DataFrame:\\n\", merged_df)\n"
   ]
  },
  {
   "cell_type": "code",
   "execution_count": 130,
   "id": "b7c74b6d-8e43-45ff-9008-d913e7e007e5",
   "metadata": {},
   "outputs": [],
   "source": [
    "# Time Series Analysis\n"
   ]
  },
  {
   "cell_type": "code",
   "execution_count": 131,
   "id": "086e3259-3a0c-48a2-b506-de7324609a4b",
   "metadata": {},
   "outputs": [],
   "source": [
    "df['date'] = pd.date_range(start='1/1/2020', periods=len(df), freq='D')"
   ]
  },
  {
   "cell_type": "code",
   "execution_count": 132,
   "id": "3a93f7ac-f6ba-4b26-a6fc-976f2cfa2cda",
   "metadata": {},
   "outputs": [],
   "source": [
    "df.set_index('date', inplace=True)"
   ]
  },
  {
   "cell_type": "code",
   "execution_count": 133,
   "id": "6949e354-95c1-4eb3-97e0-9c6f2f4dbac7",
   "metadata": {},
   "outputs": [
    {
     "name": "stdout",
     "output_type": "stream",
     "text": [
      "DataFrame with Date Index:\n",
      "             A  B  c\n",
      "date               \n",
      "2020-01-01  1  5  1\n",
      "2020-01-02  2  6  5\n",
      "2020-01-03  3  7  3\n",
      "2020-01-04  4  8  4\n"
     ]
    }
   ],
   "source": [
    "print(\"DataFrame with Date Index:\\n\", df)\n"
   ]
  },
  {
   "cell_type": "code",
   "execution_count": 134,
   "id": "85832fbc-4ae2-4f31-8672-4ae07a103e58",
   "metadata": {},
   "outputs": [],
   "source": [
    "resampled_df = df.resample('M').mean()\n"
   ]
  },
  {
   "cell_type": "code",
   "execution_count": 135,
   "id": "d6cc80cd-25ce-475b-89ab-9bc7ca8ee3d7",
   "metadata": {},
   "outputs": [
    {
     "name": "stdout",
     "output_type": "stream",
     "text": [
      "Resampled DataFrame:\n",
      "               A    B     c\n",
      "date                      \n",
      "2020-01-31  2.5  6.5  3.25\n"
     ]
    }
   ],
   "source": [
    "print(\"Resampled DataFrame:\\n\", resampled_df)"
   ]
  }
 ],
 "metadata": {
  "kernelspec": {
   "display_name": "Python 3 (ipykernel)",
   "language": "python",
   "name": "python3"
  },
  "language_info": {
   "codemirror_mode": {
    "name": "ipython",
    "version": 3
   },
   "file_extension": ".py",
   "mimetype": "text/x-python",
   "name": "python",
   "nbconvert_exporter": "python",
   "pygments_lexer": "ipython3",
   "version": "3.11.7"
  }
 },
 "nbformat": 4,
 "nbformat_minor": 5
}
